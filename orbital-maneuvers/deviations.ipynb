{
 "cells": [
  {
   "cell_type": "code",
   "execution_count": 1,
   "metadata": {},
   "outputs": [],
   "source": [
    "import os\n",
    "import itertools\n",
    "import glob\n",
    "import datetime\n",
    "\n",
    "import numpy as np\n",
    "import pandas as pd\n",
    "import seaborn as sns\n",
    "import matplotlib as mpl\n",
    "import matplotlib.ticker\n",
    "import matplotlib.pyplot as plt\n",
    "\n",
    "\n",
    "pal = sns.color_palette(['#4477AA', '#EE6677', '#228833', '#CCBB44', '#66CCEE', '#AA3377', '#BBBBBB'])\n",
    "sns.set_palette(pal)\n",
    "\n",
    "mpl.rcParams['pdf.fonttype'] = 42\n",
    "mpl.rcParams['ps.fonttype'] = 42\n",
    "mpl.rcParams['figure.figsize'] = (4.5,2)\n",
    "mpl.rcParams['figure.dpi'] = 100"
   ]
  },
  {
   "cell_type": "code",
   "execution_count": 2,
   "metadata": {},
   "outputs": [],
   "source": [
    "# only recorded conjunctions after this date\n",
    "start_date = \"2023-01-06\"\n",
    "end_date = \"2023-01-20\"\n",
    "high_risk = 10e-4"
   ]
  },
  {
   "cell_type": "code",
   "execution_count": 3,
   "metadata": {},
   "outputs": [],
   "source": [
    "input_conjunctions_file_prefix = \"./cleaned/starlink-conjunctions/\"\n",
    "input_tle_file_prefix = \"./propagated/STARLINK\"\n",
    "output_dir = \"./images/conjunctions/\""
   ]
  },
  {
   "cell_type": "code",
   "execution_count": 4,
   "metadata": {},
   "outputs": [],
   "source": [
    "# find all files with the given prefix\n",
    "files = glob.glob(input_tle_file_prefix + \"*\")\n",
    "\n",
    "# create output directory if it doesn't exist\n",
    "if not os.path.exists(output_dir):\n",
    "    os.makedirs(output_dir)\n",
    "\n",
    "conjuncted_satellites = set()\n"
   ]
  },
  {
   "cell_type": "code",
   "execution_count": 5,
   "metadata": {},
   "outputs": [
    {
     "name": "stdout",
     "output_type": "stream",
     "text": [
      "Could not read conjunctions for STARLINK BE (file exists: False)\n",
      "Could not read conjunctions for STARLINK Q (file exists: False)\n",
      "Could not read conjunctions for STARLINK BD (file exists: False)\n",
      "Could not read conjunctions for STARLINK-5257 (file exists: False)\n",
      "Could not read conjunctions for STARLINK-5296 (file exists: False)\n",
      "Could not read conjunctions for STARLINK AJ (file exists: False)\n",
      "Could not read conjunctions for STARLINK BF (file exists: False)\n",
      "Could not read conjunctions for STARLINK S (file exists: False)\n",
      "Could not read conjunctions for STARLINK D (file exists: False)\n",
      "Could not read conjunctions for STARLINK-5320 (file exists: False)\n",
      "Could not read conjunctions for STARLINK AK (file exists: False)\n",
      "Could not read conjunctions for STARLINK-3816 (file exists: False)\n",
      "Could not read conjunctions for STARLINK-5287 (file exists: False)\n",
      "Could not read conjunctions for STARLINK BC (file exists: False)\n",
      "Could not read conjunctions for STARLINK-2107 (file exists: False)\n",
      "Could not read conjunctions for STARLINK V (file exists: False)\n",
      "Could not read conjunctions for STARLINK W (file exists: False)\n",
      "Could not read conjunctions for STARLINK-5319 (file exists: False)\n",
      "Could not read conjunctions for STARLINK AN (file exists: False)\n",
      "Could not read conjunctions for STARLINK AY (file exists: False)\n",
      "Could not read conjunctions for STARLINK-5292 (file exists: False)\n",
      "Could not read conjunctions for STARLINK-5284 (file exists: False)\n",
      "Could not read conjunctions for STARLINK AL (file exists: False)\n",
      "Could not read conjunctions for STARLINK-5327 (file exists: False)\n",
      "Could not read conjunctions for STARLINK AM (file exists: False)\n",
      "Could not read conjunctions for STARLINK AZ (file exists: False)\n",
      "Could not read conjunctions for STARLINK BA (file exists: False)\n",
      "Could not read conjunctions for STARLINK-5196 (file exists: False)\n",
      "Could not read conjunctions for STARLINK AW (file exists: False)\n",
      "Could not read conjunctions for STARLINK-5317 (file exists: False)\n",
      "Could not read conjunctions for STARLINK Y (file exists: False)\n",
      "Could not read conjunctions for STARLINK AA (file exists: False)\n",
      "Could not read conjunctions for STARLINK AV (file exists: False)\n",
      "Could not read conjunctions for STARLINK AT (file exists: False)\n",
      "Could not read conjunctions for STARLINK L (file exists: False)\n",
      "Could not read conjunctions for STARLINK AB (file exists: False)\n",
      "Could not read conjunctions for STARLINK AU (file exists: False)\n",
      "Could not read conjunctions for STARLINK AF (file exists: False)\n",
      "Could not read conjunctions for STARLINK-5311 (file exists: False)\n",
      "Could not read conjunctions for STARLINK H (file exists: False)\n",
      "Could not read conjunctions for STARLINK-5310 (file exists: False)\n",
      "Could not read conjunctions for STARLINK AP (file exists: False)\n",
      "Could not read conjunctions for STARLINK AG (file exists: False)\n",
      "Could not read conjunctions for STARLINK-5270 (file exists: False)\n",
      "Could not read conjunctions for STARLINK AE (file exists: False)\n",
      "Could not read conjunctions for STARLINK K (file exists: False)\n",
      "Could not read conjunctions for STARLINK J (file exists: False)\n",
      "Could not read conjunctions for STARLINK-5313 (file exists: False)\n",
      "Could not read conjunctions for STARLINK AD (file exists: False)\n"
     ]
    }
   ],
   "source": [
    "\n",
    "for f in files:\n",
    "    sat_name = os.path.basename(f).split(\".\")[0]\n",
    "\n",
    "    # read conjunctions\n",
    "    conjunction_file = input_conjunctions_file_prefix + f\"{sat_name}.csv\"\n",
    "\n",
    "    try:\n",
    "        conjunctions = pd.read_csv(conjunction_file)\n",
    "    except:\n",
    "        print(f\"Could not read conjunctions for {sat_name} (file exists: {os.path.exists(conjunction_file)})\")\n",
    "        continue\n",
    "\n",
    "    conjunctions = conjunctions[conjunctions['date'] >= start_date]\n",
    "    conjunctions = conjunctions[conjunctions['date'] <= end_date]\n",
    "\n",
    "    conjunctions['date'] = pd.to_datetime(conjunctions['date'])\n",
    "    conjunctions['date_tca'] = pd.to_datetime(conjunctions['date_tca'])\n",
    "\n",
    "    important_conjunctions = conjunctions[conjunctions['probability'] > high_risk]\n",
    "\n",
    "    if len(important_conjunctions) == 0:\n",
    "        # print(f\"No important conjunctions for {sat_name}\")\n",
    "        continue\n",
    "\n",
    "    conjuncted_satellites.add(sat_name)\n"
   ]
  },
  {
   "cell_type": "code",
   "execution_count": 7,
   "metadata": {},
   "outputs": [],
   "source": [
    "# next, plot distance distribution for all the satellites\n",
    "distances = []\n",
    "\n",
    "for f in files:\n",
    "    sat_name = os.path.basename(f).split(\".\")[0]\n",
    "\n",
    "    if not sat_name in conjuncted_satellites:\n",
    "        continue\n",
    "\n",
    "    # read input file\n",
    "    sat_df = pd.read_csv(f)\n",
    "    sat_df = sat_df[sat_df['date'] >= start_date]\n",
    "    sat_df = sat_df[sat_df['date'] <= end_date]\n",
    "    sat_df['date'] = pd.to_datetime(sat_df['date'])\n",
    "\n",
    "    df_distance = sat_df[[\"distance_ground\"]].copy()\n",
    "    df_distance[\"satellite\"] = sat_name\n",
    "\n",
    "    distances.append(df_distance)\n",
    "\n",
    "df = pd.concat(distances)\n",
    "df.rename(columns={\"distance_ground\": \"altitude\"}, inplace=True)\n",
    "df[\"altitude\"] = df[\"altitude\"] / 1000\n",
    "df.reset_index(drop=True, inplace=True)"
   ]
  },
  {
   "cell_type": "code",
   "execution_count": 14,
   "metadata": {},
   "outputs": [
    {
     "data": {
      "text/plain": [
       "[(580.0, 500.0)]"
      ]
     },
     "execution_count": 14,
     "metadata": {},
     "output_type": "execute_result"
    },
    {
     "data": {
      "image/png": "[encoded data removed]",
      "text/plain": [
       "<Figure size 450x200 with 1 Axes>"
      ]
     },
     "metadata": {},
     "output_type": "display_data"
    }
   ],
   "source": [
    "# now plot!\n",
    "g = sns.boxplot(data=df, x=\"satellite\", y=\"altitude\", color=\"#4477AA\")\n",
    "# g.set_xticklabels(g.get_xticklabels(), rotation=90)\n",
    "g.set(ylim=(580, 500))"
   ]
  },
  {
   "cell_type": "code",
   "execution_count": 17,
   "metadata": {},
   "outputs": [
    {
     "data": {
      "text/html": [
       "<div>\n",
       "<style scoped>\n",
       "    .dataframe tbody tr th:only-of-type {\n",
       "        vertical-align: middle;\n",
       "    }\n",
       "\n",
       "    .dataframe tbody tr th {\n",
       "        vertical-align: top;\n",
       "    }\n",
       "\n",
       "    .dataframe thead th {\n",
       "        text-align: right;\n",
       "    }\n",
       "</style>\n",
       "<table border=\"1\" class=\"dataframe\">\n",
       "  <thead>\n",
       "    <tr style=\"text-align: right;\">\n",
       "      <th></th>\n",
       "      <th>satellite</th>\n",
       "      <th>mean</th>\n",
       "      <th>std</th>\n",
       "      <th>max</th>\n",
       "      <th>min</th>\n",
       "      <th>diff</th>\n",
       "    </tr>\n",
       "  </thead>\n",
       "  <tbody>\n",
       "    <tr>\n",
       "      <th>0</th>\n",
       "      <td>STARLINK-1012</td>\n",
       "      <td>554.219274</td>\n",
       "      <td>4.921800</td>\n",
       "      <td>560.635318</td>\n",
       "      <td>545.881390</td>\n",
       "      <td>8.337883</td>\n",
       "    </tr>\n",
       "    <tr>\n",
       "      <th>1</th>\n",
       "      <td>STARLINK-1049</td>\n",
       "      <td>554.213988</td>\n",
       "      <td>4.995999</td>\n",
       "      <td>560.587490</td>\n",
       "      <td>545.863296</td>\n",
       "      <td>8.350692</td>\n",
       "    </tr>\n",
       "    <tr>\n",
       "      <th>2</th>\n",
       "      <td>STARLINK-1106</td>\n",
       "      <td>552.281520</td>\n",
       "      <td>5.348682</td>\n",
       "      <td>559.996197</td>\n",
       "      <td>541.994669</td>\n",
       "      <td>10.286851</td>\n",
       "    </tr>\n",
       "    <tr>\n",
       "      <th>3</th>\n",
       "      <td>STARLINK-1107</td>\n",
       "      <td>554.224400</td>\n",
       "      <td>5.171469</td>\n",
       "      <td>561.023412</td>\n",
       "      <td>545.520364</td>\n",
       "      <td>8.704037</td>\n",
       "    </tr>\n",
       "    <tr>\n",
       "      <th>4</th>\n",
       "      <td>STARLINK-1109</td>\n",
       "      <td>554.199269</td>\n",
       "      <td>4.995380</td>\n",
       "      <td>560.496089</td>\n",
       "      <td>545.786484</td>\n",
       "      <td>8.412785</td>\n",
       "    </tr>\n",
       "  </tbody>\n",
       "</table>\n",
       "</div>"
      ],
      "text/plain": [
       "       satellite        mean       std         max         min       diff\n",
       "0  STARLINK-1012  554.219274  4.921800  560.635318  545.881390   8.337883\n",
       "1  STARLINK-1049  554.213988  4.995999  560.587490  545.863296   8.350692\n",
       "2  STARLINK-1106  552.281520  5.348682  559.996197  541.994669  10.286851\n",
       "3  STARLINK-1107  554.224400  5.171469  561.023412  545.520364   8.704037\n",
       "4  STARLINK-1109  554.199269  4.995380  560.496089  545.786484   8.412785"
      ]
     },
     "execution_count": 17,
     "metadata": {},
     "output_type": "execute_result"
    }
   ],
   "source": [
    "deviation = df.groupby(\"satellite\").agg({\"altitude\": [\"mean\", \"std\", \"max\", \"min\"]})\n",
    "deviation.columns = [\"mean\", \"std\", \"max\", \"min\"]\n",
    "deviation.reset_index(inplace=True)\n",
    "deviation[\"diff\"] = deviation.apply(lambda x: max(x[\"max\"] - x[\"mean\"], x[\"mean\"] - x[\"min\"]), axis=1)\n",
    "deviation.head()"
   ]
  },
  {
   "cell_type": "code",
   "execution_count": 19,
   "metadata": {},
   "outputs": [
    {
     "data": {
      "text/plain": [
       "<AxesSubplot: xlabel='satellite', ylabel='diff'>"
      ]
     },
     "execution_count": 19,
     "metadata": {},
     "output_type": "execute_result"
    },
    {
     "data": {
      "image/png": "[encoded data removed]",
      "text/plain": [
       "<Figure size 450x200 with 1 Axes>"
      ]
     },
     "metadata": {},
     "output_type": "display_data"
    }
   ],
   "source": [
    "sns.scatterplot(data=deviation, x=\"satellite\", y=\"diff\", color=\"#EE6677\")"
   ]
  },
  {
   "cell_type": "code",
   "execution_count": null,
   "metadata": {},
   "outputs": [],
   "source": [
    "\n",
    "# save figure\n",
    "# plt.savefig(os.path.join(output_dir, \"altitude_distribution.png\"), dpi=100, bbox_inches=\"tight\")\n",
    "# plt.close(g.get_figure())\n"
   ]
  }
 ],
 "metadata": {
  "kernelspec": {
   "display_name": "Python 3",
   "language": "python",
   "name": "python3"
  },
  "language_info": {
   "codemirror_mode": {
    "name": "ipython",
    "version": 3
   },
   "file_extension": ".py",
   "mimetype": "text/x-python",
   "name": "python",
   "nbconvert_exporter": "python",
   "pygments_lexer": "ipython3",
   "version": "3.10.9 (main, Dec 15 2022, 17:11:09) [Clang 14.0.0 (clang-1400.0.29.202)]"
  },
  "orig_nbformat": 4,
  "vscode": {
   "interpreter": {
    "hash": "eda7e54fe21129b67f77862937907ee926f057597a3e2fa1e18ac955e40912b3"
   }
  }
 },
 "nbformat": 4,
 "nbformat_minor": 2
}
